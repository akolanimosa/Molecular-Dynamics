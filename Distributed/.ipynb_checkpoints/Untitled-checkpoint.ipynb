{
 "cells": [
  {
   "cell_type": "code",
   "execution_count": 93,
   "id": "e5f28edb",
   "metadata": {},
   "outputs": [],
   "source": [
    "import sys\n",
    "\n",
    "arguments = sys.argv\n",
    "data_path = arguments[0]\n",
    "creation_path = arguments[1]\n",
    "\n",
    "with open(data_path, \"r\") as file:\n",
    "    for i, line in enumerate(file):\n",
    "         if \"Atoms\" in line:\n",
    "                n = i\n",
    "    \n",
    "with open(data_path, \"r\") as file:\n",
    "    pre_lines = file.readlines()[:n+2]\n",
    "    \n",
    "    \n",
    "with open(data_path, \"r\") as file:\n",
    "    atom_lines = file.readlines()[n+2:]\n",
    "    new_lines = []\n",
    "    j=0\n",
    "    for i, line in enumerate(atom_lines):\n",
    "        if i%5 == 0:\n",
    "            j+=1\n",
    "        values = line.split(\" \")\n",
    "        values[1] = str(j)\n",
    "        line = \" \".join(values)\n",
    "        new_lines.append(line)\n",
    "        \n",
    "\n",
    "with open (creation_path, \"w\") as file:\n",
    "    file.writelines(pre_lines)\n",
    "    file.writelines(new_lines)"
   ]
  },
  {
   "cell_type": "code",
   "execution_count": null,
   "id": "af396145",
   "metadata": {},
   "outputs": [],
   "source": []
  }
 ],
 "metadata": {
  "kernelspec": {
   "display_name": "Python 3.9(Base)",
   "language": "python",
   "name": "base"
  },
  "language_info": {
   "codemirror_mode": {
    "name": "ipython",
    "version": 3
   },
   "file_extension": ".py",
   "mimetype": "text/x-python",
   "name": "python",
   "nbconvert_exporter": "python",
   "pygments_lexer": "ipython3",
   "version": "3.9.12"
  }
 },
 "nbformat": 4,
 "nbformat_minor": 5
}
